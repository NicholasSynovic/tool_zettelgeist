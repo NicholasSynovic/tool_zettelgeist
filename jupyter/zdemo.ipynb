{
 "cells": [
  {
   "cell_type": "markdown",
   "metadata": {},
   "source": [
    "YAML support is provided by PyYAML at http://pyyaml.org/. This notebook depends on it."
   ]
  },
  {
   "cell_type": "code",
   "execution_count": 1,
   "metadata": {
    "collapsed": true
   },
   "outputs": [],
   "source": [
    "import yaml\n"
   ]
  },
  {
   "cell_type": "markdown",
   "metadata": {},
   "source": [
    "The following cell provides an initial example of a *note* in our system. Notes comprise YAML frontmatter and optional Markdown. There can be any number of notes in an actual note file, but the nominal use case is to have YAML + some Markdown. It is also permitted to include the entire text for a note within the YAML, assuming you have no special formatting requirements.\n",
    "\n",
    "In our current thinking, we have the following:\n",
    "\n",
    "- title: an optional title (text)\n",
    "- tags: one or more keywords (text, sequence of text, no nesting)\n",
    "- mentions: one or more mentions (text, sequence of text, no nesting)\n",
    "- outline: one or more items (text, sequence of text, nesting is permitted)\n",
    "- dates (numeric text, sequence, must follow established historical ways of representing dates)\n",
    "- text (text from the source as multiline string)\n",
    "- bibtex, ris, or inline (text for the bibliographic item; will be syntax checked)\n",
    "- bibkey (text, a hopefully unique identifier for referring to this source in other Zettels)\n",
    "- note (any additional details that you wish to hide from indexing)\n",
    "\n",
    "In most situations, freeform text is permitted. If you need to do crazy things, you must put quotes around the text so YAML can process it. However, words separated by whitespace and punctuation seems to work fine in most situations.\n",
    "\n",
    "These all are intended to be string data, so there are no restrictions on what can be in any field; however, we will likely limit tags, mentions, dates in some way as we go forward. Fields such as bibtex, ris, or inline are also subject to validity checking."
   ]
  },
  {
   "cell_type": "markdown",
   "metadata": {},
   "source": [
    "Print the document to the console (nothing special here)."
   ]
  },
  {
   "cell_type": "code",
   "execution_count": 2,
   "metadata": {
    "collapsed": true
   },
   "outputs": [],
   "source": [
    "myFirstZettel=\"\"\"\n",
    "title: First BIB Note for Castells\n",
    "tags:\n",
    "  - Castells\n",
    "  - Network Society\n",
    "  - Charles Babbage is Awesome\n",
    "  - Charles Didn't do Everything\n",
    "mentions:\n",
    "  - gkt\n",
    "  - dbdennis\n",
    "dates: 2016\n",
    "cite:\n",
    "  - Castells Rise 2016\n",
    "  - ii-iv\n",
    "  - 23-36\n",
    "outline:\n",
    "  - Introduction\n",
    "  - - Computers\n",
    "    - People\n",
    "  - Conclusions\n",
    "  - - Great Ideas of Computing\n",
    "\n",
    "text: |\n",
    "  Lorem ipsum dolor sit amet, consectetur adipiscing elit. Etiam eleifend est sed diam maximus rutrum. Quisque sit amet imperdiet odio, id tristique libero. Aliquam viverra convallis mauris vel tristique. Cras ac dolor non risus porttitor molestie vel at nisi. Donec vitae finibus quam. Phasellus vehicula urna sed nibh condimentum, ultrices interdum velit eleifend. Nam suscipit dolor eu rutrum fringilla. Sed pulvinar purus purus, sit amet venenatis enim convallis a. Duis fringilla nisl sit amet erat lobortis dictum. Nunc fringilla arcu nec ex blandit, a gravida purus commodo. Vivamus lacinia tellus dui, vel maximus lacus ornare id.\n",
    "\n",
    "  Vivamus euismod justo sit amet luctus bibendum. Integer non mi ullamcorper enim fringilla vulputate sit amet in urna. Nullam eu sodales ipsum. Curabitur id convallis ex. Duis a condimentum lorem. Nulla et urna massa. Duis in nibh eu elit lobortis vehicula. Mauris congue mauris mollis metus lacinia, ut suscipit mi egestas. Donec luctus ante ante, eget viverra est mollis vitae.\n",
    "\n",
    "  Vivamus in purus in erat dictum scelerisque. Aliquam dictum quis ligula ac euismod. Mauris elementum metus vel scelerisque feugiat. Vivamus bibendum massa eu pellentesque sodales. Nulla nec lacus dolor. Donec scelerisque, nibh sed placerat gravida, nunc turpis tristique nibh, ac feugiat enim massa ut eros. Nulla finibus, augue egestas hendrerit accumsan, tellus augue tempor eros, in sagittis dolor turpis nec mi. Nunc fringilla mi non malesuada aliquet.\n",
    "\n",
    "bibkey:\n",
    "  Castells Rise 1996\n",
    "bibtex: |\n",
    "  @book{castells_rise_1996,\n",
    "    address = {Cambridge, Mass.},\n",
    "    series = {Castells, {Manuel}, 1942- {Information} age . v},\n",
    "    title = {The rise of the network society},\n",
    "    isbn = {978-1-55786-616-5},\n",
    "    language = {eng},\n",
    "    publisher = {Blackwell Publishers},\n",
    "    author = {Castells, Manuel},\n",
    "    year = {1996},\n",
    "    keywords = {Information networks., Information society., Information technology Economic aspects., Information technology Social aspects., Technology and civilization.}\n",
    "  }\n",
    "\n",
    "note:\n",
    "  George likes this new format.\n",
    "\"\"\""
   ]
  },
  {
   "cell_type": "code",
   "execution_count": 3,
   "metadata": {},
   "outputs": [
    {
     "name": "stdout",
     "output_type": "stream",
     "text": [
      "\n",
      "title: First BIB Note for Castells\n",
      "tags:\n",
      "  - Castells\n",
      "  - Network Society\n",
      "  - Charles Babbage is Awesome\n",
      "  - Charles Didn't do Everything\n",
      "mentions:\n",
      "  - gkt\n",
      "  - dbdennis\n",
      "dates: 2016\n",
      "cite:\n",
      "  - Castells Rise 2016\n",
      "  - ii-iv\n",
      "  - 23-36\n",
      "outline:\n",
      "  - Introduction\n",
      "  - - Computers\n",
      "    - People\n",
      "  - Conclusions\n",
      "  - - Great Ideas of Computing\n",
      "\n",
      "text: |\n",
      "  Lorem ipsum dolor sit amet, consectetur adipiscing elit. Etiam eleifend est sed diam maximus rutrum. Quisque sit amet imperdiet odio, id tristique libero. Aliquam viverra convallis mauris vel tristique. Cras ac dolor non risus porttitor molestie vel at nisi. Donec vitae finibus quam. Phasellus vehicula urna sed nibh condimentum, ultrices interdum velit eleifend. Nam suscipit dolor eu rutrum fringilla. Sed pulvinar purus purus, sit amet venenatis enim convallis a. Duis fringilla nisl sit amet erat lobortis dictum. Nunc fringilla arcu nec ex blandit, a gravida purus commodo. Vivamus lacinia tellus dui, vel maximus lacus ornare id.\n",
      "\n",
      "  Vivamus euismod justo sit amet luctus bibendum. Integer non mi ullamcorper enim fringilla vulputate sit amet in urna. Nullam eu sodales ipsum. Curabitur id convallis ex. Duis a condimentum lorem. Nulla et urna massa. Duis in nibh eu elit lobortis vehicula. Mauris congue mauris mollis metus lacinia, ut suscipit mi egestas. Donec luctus ante ante, eget viverra est mollis vitae.\n",
      "\n",
      "  Vivamus in purus in erat dictum scelerisque. Aliquam dictum quis ligula ac euismod. Mauris elementum metus vel scelerisque feugiat. Vivamus bibendum massa eu pellentesque sodales. Nulla nec lacus dolor. Donec scelerisque, nibh sed placerat gravida, nunc turpis tristique nibh, ac feugiat enim massa ut eros. Nulla finibus, augue egestas hendrerit accumsan, tellus augue tempor eros, in sagittis dolor turpis nec mi. Nunc fringilla mi non malesuada aliquet.\n",
      "\n",
      "bibkey:\n",
      "  Castells Rise 1996\n",
      "bibtex: |\n",
      "  @book{castells_rise_1996,\n",
      "    address = {Cambridge, Mass.},\n",
      "    series = {Castells, {Manuel}, 1942- {Information} age . v},\n",
      "    title = {The rise of the network society},\n",
      "    isbn = {978-1-55786-616-5},\n",
      "    language = {eng},\n",
      "    publisher = {Blackwell Publishers},\n",
      "    author = {Castells, Manuel},\n",
      "    year = {1996},\n",
      "    keywords = {Information networks., Information society., Information technology Economic aspects., Information technology Social aspects., Technology and civilization.}\n",
      "  }\n",
      "\n",
      "note:\n",
      "  George likes this new format.\n",
      "\n"
     ]
    }
   ],
   "source": [
    "print(myFirstZettel)"
   ]
  },
  {
   "cell_type": "markdown",
   "metadata": {},
   "source": [
    "This shows how to load just the YAML portion of the document, resulting in a Python dictionary data structure. Observe that the Python dictionary has { key : value, ... }. So we can extract the YAML fields from the Python dictionary data structure.\n",
    "\n",
    "Notice that when you write a YAML list of mentions, there is a nested Python list ['gkt', 'dbdennis']."
   ]
  },
  {
   "cell_type": "code",
   "execution_count": 4,
   "metadata": {
    "collapsed": true
   },
   "outputs": [],
   "source": [
    "doc = yaml.load(myFirstZettel)"
   ]
  },
  {
   "cell_type": "markdown",
   "metadata": {},
   "source": [
    "Closing the loop, the following shows how to *iterate* the keys of the data structure."
   ]
  },
  {
   "cell_type": "code",
   "execution_count": 5,
   "metadata": {},
   "outputs": [
    {
     "name": "stdout",
     "output_type": "stream",
     "text": [
      "dates = 2016\n",
      "tags = ['Castells', 'Network Society', 'Charles Babbage is Awesome', \"Charles Didn't do Everything\"]\n",
      "note = George likes this new format.\n",
      "bibkey = Castells Rise 1996\n",
      "mentions = ['gkt', 'dbdennis']\n",
      "title = First BIB Note for Castells\n",
      "cite = ['Castells Rise 2016', 'ii-iv', '23-36']\n",
      "bibtex = @book{castells_rise_1996,\n",
      "  address = {Cambridge, Mass.},\n",
      "  series = {Castells, {Manuel}, 1942- {Information} age . v},\n",
      "  title = {The rise of the network society},\n",
      "  isbn = {978-1-55786-616-5},\n",
      "  language = {eng},\n",
      "  publisher = {Blackwell Publishers},\n",
      "  author = {Castells, Manuel},\n",
      "  year = {1996},\n",
      "  keywords = {Information networks., Information society., Information technology Economic aspects., Information technology Social aspects., Technology and civilization.}\n",
      "}\n",
      "\n",
      "outline = ['Introduction', ['Computers', 'People'], 'Conclusions', ['Great Ideas of Computing']]\n",
      "text = Lorem ipsum dolor sit amet, consectetur adipiscing elit. Etiam eleifend est sed diam maximus rutrum. Quisque sit amet imperdiet odio, id tristique libero. Aliquam viverra convallis mauris vel tristique. Cras ac dolor non risus porttitor molestie vel at nisi. Donec vitae finibus quam. Phasellus vehicula urna sed nibh condimentum, ultrices interdum velit eleifend. Nam suscipit dolor eu rutrum fringilla. Sed pulvinar purus purus, sit amet venenatis enim convallis a. Duis fringilla nisl sit amet erat lobortis dictum. Nunc fringilla arcu nec ex blandit, a gravida purus commodo. Vivamus lacinia tellus dui, vel maximus lacus ornare id.\n",
      "\n",
      "Vivamus euismod justo sit amet luctus bibendum. Integer non mi ullamcorper enim fringilla vulputate sit amet in urna. Nullam eu sodales ipsum. Curabitur id convallis ex. Duis a condimentum lorem. Nulla et urna massa. Duis in nibh eu elit lobortis vehicula. Mauris congue mauris mollis metus lacinia, ut suscipit mi egestas. Donec luctus ante ante, eget viverra est mollis vitae.\n",
      "\n",
      "Vivamus in purus in erat dictum scelerisque. Aliquam dictum quis ligula ac euismod. Mauris elementum metus vel scelerisque feugiat. Vivamus bibendum massa eu pellentesque sodales. Nulla nec lacus dolor. Donec scelerisque, nibh sed placerat gravida, nunc turpis tristique nibh, ac feugiat enim massa ut eros. Nulla finibus, augue egestas hendrerit accumsan, tellus augue tempor eros, in sagittis dolor turpis nec mi. Nunc fringilla mi non malesuada aliquet.\n",
      "\n"
     ]
    }
   ],
   "source": [
    "for key in doc.keys():\n",
    "    print(key, \"=\", doc[key])"
   ]
  },
  {
   "cell_type": "markdown",
   "metadata": {},
   "source": [
    "And this shows how to get any particular item of interest. In this case, we're extracting the *bibtex* key so we can do something with the embedded BibTeX (e.g. print it)."
   ]
  },
  {
   "cell_type": "code",
   "execution_count": 6,
   "metadata": {},
   "outputs": [
    {
     "name": "stdout",
     "output_type": "stream",
     "text": [
      "Castells Rise 1996\n",
      "@book{castells_rise_1996,\n",
      "  address = {Cambridge, Mass.},\n",
      "  series = {Castells, {Manuel}, 1942- {Information} age . v},\n",
      "  title = {The rise of the network society},\n",
      "  isbn = {978-1-55786-616-5},\n",
      "  language = {eng},\n",
      "  publisher = {Blackwell Publishers},\n",
      "  author = {Castells, Manuel},\n",
      "  year = {1996},\n",
      "  keywords = {Information networks., Information society., Information technology Economic aspects., Information technology Social aspects., Technology and civilization.}\n",
      "}\n",
      "\n"
     ]
    }
   ],
   "source": [
    "print(doc['bibkey'])\n",
    "print(doc['bibtex'])"
   ]
  },
  {
   "cell_type": "markdown",
   "metadata": {},
   "source": [
    "Adapted from http://stackoverflow.com/questions/12472338/flattening-a-list-recursively. There really must be a nicer way to do stuff like this. I will rewrite this using a walker so we can have custom processing of the list items."
   ]
  },
  {
   "cell_type": "code",
   "execution_count": 7,
   "metadata": {},
   "outputs": [],
   "source": [
    "def flatten(item):\n",
    "    if type(item) != type([]):\n",
    "        return [str(item)]\n",
    "    if item == []:\n",
    "        return item\n",
    "    if isinstance(item[0], list):\n",
    "        return flatten(item[0]) + flatten(item[1:])\n",
    "    return item[:1] + flatten(item[1:])\n"
   ]
  },
  {
   "cell_type": "code",
   "execution_count": 8,
   "metadata": {},
   "outputs": [
    {
     "data": {
      "text/plain": [
       "['George was here']"
      ]
     },
     "execution_count": 8,
     "metadata": {},
     "output_type": "execute_result"
    }
   ],
   "source": [
    "flatten(\"George was here\")"
   ]
  },
  {
   "cell_type": "code",
   "execution_count": 9,
   "metadata": {},
   "outputs": [
    {
     "data": {
      "text/plain": [
       "['A', 'B', 'C', 'D', 'E']"
      ]
     },
     "execution_count": 9,
     "metadata": {},
     "output_type": "execute_result"
    }
   ],
   "source": [
    "flatten(['A', ['B', 'C'], ['D', ['E']]])"
   ]
  },
  {
   "cell_type": "markdown",
   "metadata": {},
   "source": [
    "Now we are onto some `sqlite3` explorations."
   ]
  },
  {
   "cell_type": "markdown",
   "metadata": {},
   "source": [
    "Ordinarily, I would use some sort of mapping framework to handle database operations. However, it's not clear the FTS support is part of any ORM (yet). I will continue to research but since there is likely only one table, it might not be worth the trouble."
   ]
  },
  {
   "cell_type": "markdown",
   "metadata": {
    "collapsed": true
   },
   "source": [
    "Next we will actually add the Zettel to the database and do a test query. Almost there."
   ]
  },
  {
   "cell_type": "code",
   "execution_count": 10,
   "metadata": {
    "scrolled": true
   },
   "outputs": [
    {
     "name": "stdout",
     "output_type": "stream",
     "text": [
      "CREATE VIRTUAL TABLE zettels USING fts4(title,tags,outline,note,bibkey,inline,mentions,dates,cite,bibtex,ris,summary,text)\n",
      "{ 'bibkey': 'Castells Rise 1996',\n",
      "  'bibtex': '@book{castells_rise_1996,\\n'\n",
      "            '  address = {Cambridge, Mass.},\\n'\n",
      "            '  series = {Castells, {Manuel}, 1942- {Information} age . v},\\n'\n",
      "            '  title = {The rise of the network society},\\n'\n",
      "            '  isbn = {978-1-55786-616-5},\\n'\n",
      "            '  language = {eng},\\n'\n",
      "            '  publisher = {Blackwell Publishers},\\n'\n",
      "            '  author = {Castells, Manuel},\\n'\n",
      "            '  year = {1996},\\n'\n",
      "            '  keywords = {Information networks., Information society., '\n",
      "            'Information technology Economic aspects., Information technology '\n",
      "            'Social aspects., Technology and civilization.}\\n'\n",
      "            '}\\n',\n",
      "  'cite': ['Castells Rise 2016', 'ii-iv', '23-36'],\n",
      "  'dates': 2016,\n",
      "  'mentions': ['gkt', 'dbdennis'],\n",
      "  'note': 'George likes this new format.',\n",
      "  'outline': [ 'Introduction',\n",
      "               ['Computers', 'People'],\n",
      "               'Conclusions',\n",
      "               ['Great Ideas of Computing']],\n",
      "  'tags': [ 'Castells',\n",
      "            'Network Society',\n",
      "            'Charles Babbage is Awesome',\n",
      "            \"Charles Didn't do Everything\"],\n",
      "  'text': 'Lorem ipsum dolor sit amet, consectetur adipiscing elit. Etiam '\n",
      "          'eleifend est sed diam maximus rutrum. Quisque sit amet imperdiet '\n",
      "          'odio, id tristique libero. Aliquam viverra convallis mauris vel '\n",
      "          'tristique. Cras ac dolor non risus porttitor molestie vel at nisi. '\n",
      "          'Donec vitae finibus quam. Phasellus vehicula urna sed nibh '\n",
      "          'condimentum, ultrices interdum velit eleifend. Nam suscipit dolor '\n",
      "          'eu rutrum fringilla. Sed pulvinar purus purus, sit amet venenatis '\n",
      "          'enim convallis a. Duis fringilla nisl sit amet erat lobortis '\n",
      "          'dictum. Nunc fringilla arcu nec ex blandit, a gravida purus '\n",
      "          'commodo. Vivamus lacinia tellus dui, vel maximus lacus ornare id.\\n'\n",
      "          '\\n'\n",
      "          'Vivamus euismod justo sit amet luctus bibendum. Integer non mi '\n",
      "          'ullamcorper enim fringilla vulputate sit amet in urna. Nullam eu '\n",
      "          'sodales ipsum. Curabitur id convallis ex. Duis a condimentum lorem. '\n",
      "          'Nulla et urna massa. Duis in nibh eu elit lobortis vehicula. Mauris '\n",
      "          'congue mauris mollis metus lacinia, ut suscipit mi egestas. Donec '\n",
      "          'luctus ante ante, eget viverra est mollis vitae.\\n'\n",
      "          '\\n'\n",
      "          'Vivamus in purus in erat dictum scelerisque. Aliquam dictum quis '\n",
      "          'ligula ac euismod. Mauris elementum metus vel scelerisque feugiat. '\n",
      "          'Vivamus bibendum massa eu pellentesque sodales. Nulla nec lacus '\n",
      "          'dolor. Donec scelerisque, nibh sed placerat gravida, nunc turpis '\n",
      "          'tristique nibh, ac feugiat enim massa ut eros. Nulla finibus, augue '\n",
      "          'egestas hendrerit accumsan, tellus augue tempor eros, in sagittis '\n",
      "          'dolor turpis nec mi. Nunc fringilla mi non malesuada aliquet.\\n',\n",
      "  'title': 'First BIB Note for Castells'}\n",
      "INSERT INTO zettels VALUES (?,?,?,?,?,?,?,?,?,?,?,?,?)\n",
      "dict_keys(['dates', 'text', 'tags', 'cite', 'note', 'bibkey', 'mentions', 'title', 'inline', 'bibtex', 'ris', 'summary', 'outline'])\n",
      "[ '2016',\n",
      "  'Lorem ipsum dolor sit amet, consectetur adipiscing elit. Etiam eleifend est '\n",
      "  'sed diam maximus rutrum. Quisque sit amet imperdiet odio, id tristique '\n",
      "  'libero. Aliquam viverra convallis mauris vel tristique. Cras ac dolor non '\n",
      "  'risus porttitor molestie vel at nisi. Donec vitae finibus quam. Phasellus '\n",
      "  'vehicula urna sed nibh condimentum, ultrices interdum velit eleifend. Nam '\n",
      "  'suscipit dolor eu rutrum fringilla. Sed pulvinar purus purus, sit amet '\n",
      "  'venenatis enim convallis a. Duis fringilla nisl sit amet erat lobortis '\n",
      "  'dictum. Nunc fringilla arcu nec ex blandit, a gravida purus commodo. '\n",
      "  'Vivamus lacinia tellus dui, vel maximus lacus ornare id.\\n'\n",
      "  '\\n'\n",
      "  'Vivamus euismod justo sit amet luctus bibendum. Integer non mi ullamcorper '\n",
      "  'enim fringilla vulputate sit amet in urna. Nullam eu sodales ipsum. '\n",
      "  'Curabitur id convallis ex. Duis a condimentum lorem. Nulla et urna massa. '\n",
      "  'Duis in nibh eu elit lobortis vehicula. Mauris congue mauris mollis metus '\n",
      "  'lacinia, ut suscipit mi egestas. Donec luctus ante ante, eget viverra est '\n",
      "  'mollis vitae.\\n'\n",
      "  '\\n'\n",
      "  'Vivamus in purus in erat dictum scelerisque. Aliquam dictum quis ligula ac '\n",
      "  'euismod. Mauris elementum metus vel scelerisque feugiat. Vivamus bibendum '\n",
      "  'massa eu pellentesque sodales. Nulla nec lacus dolor. Donec scelerisque, '\n",
      "  'nibh sed placerat gravida, nunc turpis tristique nibh, ac feugiat enim '\n",
      "  'massa ut eros. Nulla finibus, augue egestas hendrerit accumsan, tellus '\n",
      "  'augue tempor eros, in sagittis dolor turpis nec mi. Nunc fringilla mi non '\n",
      "  'malesuada aliquet.\\n',\n",
      "  \"Castells,Network Society,Charles Babbage is Awesome,Charles Didn't do \"\n",
      "  'Everything',\n",
      "  'Castells Rise 2016,ii-iv,23-36',\n",
      "  'George likes this new format.',\n",
      "  'Castells Rise 1996',\n",
      "  'gkt,dbdennis',\n",
      "  'First BIB Note for Castells',\n",
      "  '',\n",
      "  '@book{castells_rise_1996,\\n'\n",
      "  '  address = {Cambridge, Mass.},\\n'\n",
      "  '  series = {Castells, {Manuel}, 1942- {Information} age . v},\\n'\n",
      "  '  title = {The rise of the network society},\\n'\n",
      "  '  isbn = {978-1-55786-616-5},\\n'\n",
      "  '  language = {eng},\\n'\n",
      "  '  publisher = {Blackwell Publishers},\\n'\n",
      "  '  author = {Castells, Manuel},\\n'\n",
      "  '  year = {1996},\\n'\n",
      "  '  keywords = {Information networks., Information society., Information '\n",
      "  'technology Economic aspects., Information technology Social aspects., '\n",
      "  'Technology and civilization.}\\n'\n",
      "  '}\\n',\n",
      "  '',\n",
      "  '',\n",
      "  'Introduction,Computers,People,Conclusions,Great Ideas of Computing']\n"
     ]
    }
   ],
   "source": [
    "import sqlite3\n",
    "\n",
    "# This is for showing data structures only.\n",
    "\n",
    "import pprint\n",
    "printer = pprint.PrettyPrinter(indent=2)\n",
    "\n",
    "class SQLiteFTS(object):  \n",
    "  def __init__(self, db_name, table_name, field_names):\n",
    "    self.db_name = db_name\n",
    "    self.conn = sqlite3.connect(db_name)\n",
    "    self.cursor = self.conn.cursor()\n",
    "    \n",
    "    self.table_name = table_name\n",
    "    self.fts_field_names = field_names\n",
    "    self.fts_field_refs = ['?'] * len(self.fts_field_names)  # for sqlite insert template generation\n",
    "    self.fts_field_init = [''] * len(self.fts_field_names)\n",
    "    self.fts_fields = dict(zip(self.fts_field_names, self.fts_field_refs))\n",
    "    self.fts_default_record = dict(zip(self.fts_field_names, self.fts_field_init))\n",
    "\n",
    "  def bind(self, doc):\n",
    "    self.record = self.fts_default_record.copy()\n",
    "    for k in doc.keys():\n",
    "        if k in self.record.keys():\n",
    "           self.record[k] = doc[k]\n",
    "        else:\n",
    "           print(\"Unknown fts field %s\" % k)\n",
    "    self.record.update(doc)\n",
    "    \n",
    "  def drop_table(self):\n",
    "    self.conn.execute(\"DROP TABLE IF EXISTS %s\" % self.table_name)\n",
    "\n",
    "  def create_table(self):\n",
    "    sql_fields = \",\".join(self.fts_default_record.keys())\n",
    "    print(\"CREATE VIRTUAL TABLE zettels USING fts4(%s)\" % sql_fields)\n",
    "    self.conn.execute(\"CREATE VIRTUAL TABLE zettels USING fts4(%s)\" % sql_fields) \n",
    "    \n",
    "  def insert_into_table(self):\n",
    "    sql_params = \",\".join(self.fts_fields.values())\n",
    "    #printer.pprint(self.record)\n",
    "    #printer.pprint(self.record.values())\n",
    "    sql_insert_values = [ \",\".join(flatten(value)) for value in list(self.record.values())]\n",
    "    print(\"INSERT INTO zettels VALUES (%s)\" % sql_params)\n",
    "    print(self.record.keys())\n",
    "    printer.pprint(sql_insert_values)\n",
    "    self.conn.execute(\"INSERT INTO zettels VALUES (%s)\" % sql_params, sql_insert_values)\n",
    "\n",
    "  def done(self):\n",
    "    self.conn.commit()\n",
    "    self.conn.close()\n",
    "    \n",
    "sql = SQLiteFTS('zettels.db', 'zettels', ['title', 'tags', 'mentions', 'outline', 'cite', 'dates', 'summary', 'text', 'bibkey', 'bibtex', 'ris', 'inline', 'note' ])\n",
    "\n",
    "#doc_keys = list(doc.keys())\n",
    "#doc_keys.sort()\n",
    "#rec_keys = list(sql.record.keys())\n",
    "#rec_keys.sort()\n",
    "#print(\"doc keys %s\" % doc_keys)\n",
    "#print(\"record keys %s\" % rec_keys)\n",
    "\n",
    "sql.drop_table()\n",
    "sql.create_table()\n",
    "printer.pprint(doc)\n",
    "sql.bind(doc)\n",
    "sql.insert_into_table()\n",
    "sql.done()\n",
    "\n",
    "#sql_insert_values = [ str(field) for field in sql.record.values()]\n",
    "#print(sql_insert_values)\n",
    "\n",
    "#print(record)"
   ]
  }
 ],
 "metadata": {
  "kernelspec": {
   "display_name": "Python 3",
   "language": "python",
   "name": "python3"
  },
  "language_info": {
   "codemirror_mode": {
    "name": "ipython",
    "version": 3
   },
   "file_extension": ".py",
   "mimetype": "text/x-python",
   "name": "python",
   "nbconvert_exporter": "python",
   "pygments_lexer": "ipython3",
   "version": "3.5.3"
  }
 },
 "nbformat": 4,
 "nbformat_minor": 2
}
