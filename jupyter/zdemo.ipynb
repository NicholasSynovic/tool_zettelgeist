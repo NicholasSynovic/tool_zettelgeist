{
 "cells": [
  {
   "cell_type": "markdown",
   "metadata": {},
   "source": [
    "YAML support is provided by PyYAML at http://pyyaml.org/. This notebook depends on it."
   ]
  },
  {
   "cell_type": "code",
   "execution_count": 1,
   "metadata": {
    "collapsed": true
   },
   "outputs": [],
   "source": [
    "import yaml"
   ]
  },
  {
   "cell_type": "markdown",
   "metadata": {},
   "source": [
    "The following cell provides an initial example of a *note* in our system. Notes comprise YAML frontmatter and optional Markdown. There can be any number of notes in an actual note file, but the nominal use case is to have YAML + some Markdown. It is also permitted to include the entire text for a note within the YAML, assuming you have no special formatting requirements.\n",
    "\n",
    "In our current thinking, we have the following:\n",
    "\n",
    "- title: an optional title (text)\n",
    "- tags: one or more keywords (text, sequence of text, no nesting)\n",
    "- mentions: one or more mentions (text, sequence of text, no nesting)\n",
    "- outline: one or more items (text, sequence of text, nesting is permitted)\n",
    "- dates (numeric text, sequence, must follow established historical ways of representing dates)\n",
    "- text (text from the source as multiline string)\n",
    "- bibtex, ris, or inline (text for the bibliographic item; will be syntax checked)\n",
    "- bibkey (text, a hopefully unique identifier for referring to this source in other Zettels)\n",
    "- note (any additional details that you wish to hide from indexing)\n",
    "\n",
    "In most situations, freeform text is permitted. If you need to do crazy things, you must put quotes around the text so YAML can process it. However, words separated by whitespace and punctuation seems to work fine in most situations.\n",
    "\n",
    "These all are intended to be string data, so there are no restrictions on what can be in any field; however, we will likely limit tags, mentions, dates in some way as we go forward. Fields such as bibtex, ris, or inline are also subject to validity checking."
   ]
  },
  {
   "cell_type": "markdown",
   "metadata": {},
   "source": [
    "Print the document to the console (nothing special here)."
   ]
  },
  {
   "cell_type": "code",
   "execution_count": 2,
   "metadata": {
    "collapsed": true
   },
   "outputs": [],
   "source": [
    "myFirstZettel=\"\"\"\n",
    "title: First BIB Note for Castells\n",
    "tags:\n",
    "  - Castells\n",
    "  - Network Society\n",
    "  - Charles Babbage is Awesome\n",
    "  - Charles Didn't do Everything\n",
    "mentions:\n",
    "  - gkt\n",
    "  - dbdennis\n",
    "dates: 2016\n",
    "cite:\n",
    "  - Castells Rise 2016\n",
    "  - ii-iv\n",
    "  - 23-36\n",
    "outline:\n",
    "  - Introduction\n",
    "  - - Computers\n",
    "    - People\n",
    "  - Conclusions\n",
    "  - - Great Ideas of Computing\n",
    "\n",
    "text: |\n",
    "  Lorem ipsum dolor sit amet, consectetur adipiscing elit. Etiam eleifend est sed diam maximus rutrum. Quisque sit amet imperdiet odio, id tristique libero. Aliquam viverra convallis mauris vel tristique. Cras ac dolor non risus porttitor molestie vel at nisi. Donec vitae finibus quam. Phasellus vehicula urna sed nibh condimentum, ultrices interdum velit eleifend. Nam suscipit dolor eu rutrum fringilla. Sed pulvinar purus purus, sit amet venenatis enim convallis a. Duis fringilla nisl sit amet erat lobortis dictum. Nunc fringilla arcu nec ex blandit, a gravida purus commodo. Vivamus lacinia tellus dui, vel maximus lacus ornare id.\n",
    "\n",
    "  Vivamus euismod justo sit amet luctus bibendum. Integer non mi ullamcorper enim fringilla vulputate sit amet in urna. Nullam eu sodales ipsum. Curabitur id convallis ex. Duis a condimentum lorem. Nulla et urna massa. Duis in nibh eu elit lobortis vehicula. Mauris congue mauris mollis metus lacinia, ut suscipit mi egestas. Donec luctus ante ante, eget viverra est mollis vitae.\n",
    "\n",
    "  Vivamus in purus in erat dictum scelerisque. Aliquam dictum quis ligula ac euismod. Mauris elementum metus vel scelerisque feugiat. Vivamus bibendum massa eu pellentesque sodales. Nulla nec lacus dolor. Donec scelerisque, nibh sed placerat gravida, nunc turpis tristique nibh, ac feugiat enim massa ut eros. Nulla finibus, augue egestas hendrerit accumsan, tellus augue tempor eros, in sagittis dolor turpis nec mi. Nunc fringilla mi non malesuada aliquet.\n",
    "\n",
    "bibkey:\n",
    "  Castells Rise 1996\n",
    "bibtex: |\n",
    "  @book{castells_rise_1996,\n",
    "    address = {Cambridge, Mass.},\n",
    "    series = {Castells, {Manuel}, 1942- {Information} age . v},\n",
    "    title = {The rise of the network society},\n",
    "    isbn = {978-1-55786-616-5},\n",
    "    language = {eng},\n",
    "    publisher = {Blackwell Publishers},\n",
    "    author = {Castells, Manuel},\n",
    "    year = {1996},\n",
    "    keywords = {Information networks., Information society., Information technology Economic aspects., Information technology Social aspects., Technology and civilization.}\n",
    "  }\n",
    "\n",
    "note:\n",
    "  George likes this new format.\n",
    "\"\"\""
   ]
  },
  {
   "cell_type": "code",
   "execution_count": 3,
   "metadata": {},
   "outputs": [
    {
     "name": "stdout",
     "output_type": "stream",
     "text": [
      "\n",
      "title: First BIB Note for Castells\n",
      "tags:\n",
      "  - Castells\n",
      "  - Network Society\n",
      "  - Charles Babbage is Awesome\n",
      "  - Charles Didn't do Everything\n",
      "mentions:\n",
      "  - gkt\n",
      "  - dbdennis\n",
      "dates: 2016\n",
      "cite:\n",
      "  - Castells Rise 2016\n",
      "  - ii-iv\n",
      "  - 23-36\n",
      "outline:\n",
      "  - Introduction\n",
      "  - - Computers\n",
      "    - People\n",
      "  - Conclusions\n",
      "  - - Great Ideas of Computing\n",
      "\n",
      "text: |\n",
      "  Lorem ipsum dolor sit amet, consectetur adipiscing elit. Etiam eleifend est sed diam maximus rutrum. Quisque sit amet imperdiet odio, id tristique libero. Aliquam viverra convallis mauris vel tristique. Cras ac dolor non risus porttitor molestie vel at nisi. Donec vitae finibus quam. Phasellus vehicula urna sed nibh condimentum, ultrices interdum velit eleifend. Nam suscipit dolor eu rutrum fringilla. Sed pulvinar purus purus, sit amet venenatis enim convallis a. Duis fringilla nisl sit amet erat lobortis dictum. Nunc fringilla arcu nec ex blandit, a gravida purus commodo. Vivamus lacinia tellus dui, vel maximus lacus ornare id.\n",
      "\n",
      "  Vivamus euismod justo sit amet luctus bibendum. Integer non mi ullamcorper enim fringilla vulputate sit amet in urna. Nullam eu sodales ipsum. Curabitur id convallis ex. Duis a condimentum lorem. Nulla et urna massa. Duis in nibh eu elit lobortis vehicula. Mauris congue mauris mollis metus lacinia, ut suscipit mi egestas. Donec luctus ante ante, eget viverra est mollis vitae.\n",
      "\n",
      "  Vivamus in purus in erat dictum scelerisque. Aliquam dictum quis ligula ac euismod. Mauris elementum metus vel scelerisque feugiat. Vivamus bibendum massa eu pellentesque sodales. Nulla nec lacus dolor. Donec scelerisque, nibh sed placerat gravida, nunc turpis tristique nibh, ac feugiat enim massa ut eros. Nulla finibus, augue egestas hendrerit accumsan, tellus augue tempor eros, in sagittis dolor turpis nec mi. Nunc fringilla mi non malesuada aliquet.\n",
      "\n",
      "bibkey:\n",
      "  Castells Rise 1996\n",
      "bibtex: |\n",
      "  @book{castells_rise_1996,\n",
      "    address = {Cambridge, Mass.},\n",
      "    series = {Castells, {Manuel}, 1942- {Information} age . v},\n",
      "    title = {The rise of the network society},\n",
      "    isbn = {978-1-55786-616-5},\n",
      "    language = {eng},\n",
      "    publisher = {Blackwell Publishers},\n",
      "    author = {Castells, Manuel},\n",
      "    year = {1996},\n",
      "    keywords = {Information networks., Information society., Information technology Economic aspects., Information technology Social aspects., Technology and civilization.}\n",
      "  }\n",
      "\n",
      "note:\n",
      "  George likes this new format.\n",
      "\n"
     ]
    }
   ],
   "source": [
    "print(myFirstZettel)"
   ]
  },
  {
   "cell_type": "markdown",
   "metadata": {},
   "source": [
    "This shows how to load just the YAML portion of the document, resulting in a Python dictionary data structure. Observe that the Python dictionary has { key : value, ... }. So we can extract the YAML fields from the Python dictionary data structure.\n",
    "\n",
    "Notice that when you write a YAML list of mentions, there is a nested Python list ['gkt', 'dbdennis']."
   ]
  },
  {
   "cell_type": "code",
   "execution_count": 4,
   "metadata": {
    "collapsed": true
   },
   "outputs": [],
   "source": [
    "doc = yaml.load(myFirstZettel)"
   ]
  },
  {
   "cell_type": "markdown",
   "metadata": {},
   "source": [
    "Closing the loop, the following shows how to *iterate* the keys of the data structure."
   ]
  },
  {
   "cell_type": "code",
   "execution_count": 5,
   "metadata": {},
   "outputs": [
    {
     "name": "stdout",
     "output_type": "stream",
     "text": [
      "title = First BIB Note for Castells\n",
      "tags = ['Castells', 'Network Society', 'Charles Babbage is Awesome', \"Charles Didn't do Everything\"]\n",
      "mentions = ['gkt', 'dbdennis']\n",
      "dates = 2016\n",
      "cite = ['Castells Rise 2016', 'ii-iv', '23-36']\n",
      "outline = ['Introduction', ['Computers', 'People'], 'Conclusions', ['Great Ideas of Computing']]\n",
      "text = Lorem ipsum dolor sit amet, consectetur adipiscing elit. Etiam eleifend est sed diam maximus rutrum. Quisque sit amet imperdiet odio, id tristique libero. Aliquam viverra convallis mauris vel tristique. Cras ac dolor non risus porttitor molestie vel at nisi. Donec vitae finibus quam. Phasellus vehicula urna sed nibh condimentum, ultrices interdum velit eleifend. Nam suscipit dolor eu rutrum fringilla. Sed pulvinar purus purus, sit amet venenatis enim convallis a. Duis fringilla nisl sit amet erat lobortis dictum. Nunc fringilla arcu nec ex blandit, a gravida purus commodo. Vivamus lacinia tellus dui, vel maximus lacus ornare id.\n",
      "\n",
      "Vivamus euismod justo sit amet luctus bibendum. Integer non mi ullamcorper enim fringilla vulputate sit amet in urna. Nullam eu sodales ipsum. Curabitur id convallis ex. Duis a condimentum lorem. Nulla et urna massa. Duis in nibh eu elit lobortis vehicula. Mauris congue mauris mollis metus lacinia, ut suscipit mi egestas. Donec luctus ante ante, eget viverra est mollis vitae.\n",
      "\n",
      "Vivamus in purus in erat dictum scelerisque. Aliquam dictum quis ligula ac euismod. Mauris elementum metus vel scelerisque feugiat. Vivamus bibendum massa eu pellentesque sodales. Nulla nec lacus dolor. Donec scelerisque, nibh sed placerat gravida, nunc turpis tristique nibh, ac feugiat enim massa ut eros. Nulla finibus, augue egestas hendrerit accumsan, tellus augue tempor eros, in sagittis dolor turpis nec mi. Nunc fringilla mi non malesuada aliquet.\n",
      "\n",
      "bibkey = Castells Rise 1996\n",
      "bibtex = @book{castells_rise_1996,\n",
      "  address = {Cambridge, Mass.},\n",
      "  series = {Castells, {Manuel}, 1942- {Information} age . v},\n",
      "  title = {The rise of the network society},\n",
      "  isbn = {978-1-55786-616-5},\n",
      "  language = {eng},\n",
      "  publisher = {Blackwell Publishers},\n",
      "  author = {Castells, Manuel},\n",
      "  year = {1996},\n",
      "  keywords = {Information networks., Information society., Information technology Economic aspects., Information technology Social aspects., Technology and civilization.}\n",
      "}\n",
      "\n",
      "note = George likes this new format.\n"
     ]
    }
   ],
   "source": [
    "for key in doc.keys():\n",
    "    print(key, \"=\", doc[key])"
   ]
  },
  {
   "cell_type": "markdown",
   "metadata": {},
   "source": [
    "And this shows how to get any particular item of interest. In this case, we're extracting the *bibtex* key so we can do something with the embedded BibTeX (e.g. print it)."
   ]
  },
  {
   "cell_type": "code",
   "execution_count": 6,
   "metadata": {},
   "outputs": [
    {
     "name": "stdout",
     "output_type": "stream",
     "text": [
      "Castells Rise 1996\n",
      "@book{castells_rise_1996,\n",
      "  address = {Cambridge, Mass.},\n",
      "  series = {Castells, {Manuel}, 1942- {Information} age . v},\n",
      "  title = {The rise of the network society},\n",
      "  isbn = {978-1-55786-616-5},\n",
      "  language = {eng},\n",
      "  publisher = {Blackwell Publishers},\n",
      "  author = {Castells, Manuel},\n",
      "  year = {1996},\n",
      "  keywords = {Information networks., Information society., Information technology Economic aspects., Information technology Social aspects., Technology and civilization.}\n",
      "}\n",
      "\n"
     ]
    }
   ],
   "source": [
    "print(doc['bibkey'])\n",
    "print(doc['bibtex'])"
   ]
  },
  {
   "cell_type": "markdown",
   "metadata": {},
   "source": [
    "Now we are onto some `sqlite3` explorations."
   ]
  },
  {
   "cell_type": "code",
   "execution_count": 7,
   "metadata": {
    "collapsed": true
   },
   "outputs": [],
   "source": [
    "import sqlite3"
   ]
  },
  {
   "cell_type": "code",
   "execution_count": 8,
   "metadata": {
    "collapsed": true
   },
   "outputs": [],
   "source": [
    "conn = sqlite3.connect(\"zettels.db\")"
   ]
  },
  {
   "cell_type": "code",
   "execution_count": 9,
   "metadata": {
    "collapsed": true
   },
   "outputs": [],
   "source": [
    "cursor = conn.cursor()"
   ]
  },
  {
   "cell_type": "code",
   "execution_count": 10,
   "metadata": {
    "scrolled": true
   },
   "outputs": [
    {
     "name": "stdout",
     "output_type": "stream",
     "text": [
      "CREATE VIRTUAL TABLE zettels USING fts4(filename,title,tags,mentions,outline,cite,dates,summary,text,bibtex,ris,inline,note);\n",
      "INSERT INTO zettels VALUES (?,?,?,?,?,?,?,?,?,?,?,?,?)\n",
      "%(filename)s, %(title)s, %(tags)s, %(mentions)s, %(outline)s, %(cite)s, %(dates)s, %(summary)s, %(text)s, %(bibtex)s, %(ris)s, %(inline)s, %(note)s\n",
      "{'filename': '', 'title': 'First BIB Note for Castells', 'tags': ['Castells', 'Network Society', 'Charles Babbage is Awesome', \"Charles Didn't do Everything\"], 'mentions': ['gkt', 'dbdennis'], 'outline': ['Introduction', ['Computers', 'People'], 'Conclusions', ['Great Ideas of Computing']], 'cite': ['Castells Rise 2016', 'ii-iv', '23-36'], 'dates': 2016, 'summary': '', 'text': 'Lorem ipsum dolor sit amet, consectetur adipiscing elit. Etiam eleifend est sed diam maximus rutrum. Quisque sit amet imperdiet odio, id tristique libero. Aliquam viverra convallis mauris vel tristique. Cras ac dolor non risus porttitor molestie vel at nisi. Donec vitae finibus quam. Phasellus vehicula urna sed nibh condimentum, ultrices interdum velit eleifend. Nam suscipit dolor eu rutrum fringilla. Sed pulvinar purus purus, sit amet venenatis enim convallis a. Duis fringilla nisl sit amet erat lobortis dictum. Nunc fringilla arcu nec ex blandit, a gravida purus commodo. Vivamus lacinia tellus dui, vel maximus lacus ornare id.\\n\\nVivamus euismod justo sit amet luctus bibendum. Integer non mi ullamcorper enim fringilla vulputate sit amet in urna. Nullam eu sodales ipsum. Curabitur id convallis ex. Duis a condimentum lorem. Nulla et urna massa. Duis in nibh eu elit lobortis vehicula. Mauris congue mauris mollis metus lacinia, ut suscipit mi egestas. Donec luctus ante ante, eget viverra est mollis vitae.\\n\\nVivamus in purus in erat dictum scelerisque. Aliquam dictum quis ligula ac euismod. Mauris elementum metus vel scelerisque feugiat. Vivamus bibendum massa eu pellentesque sodales. Nulla nec lacus dolor. Donec scelerisque, nibh sed placerat gravida, nunc turpis tristique nibh, ac feugiat enim massa ut eros. Nulla finibus, augue egestas hendrerit accumsan, tellus augue tempor eros, in sagittis dolor turpis nec mi. Nunc fringilla mi non malesuada aliquet.\\n', 'bibtex': '@book{castells_rise_1996,\\n  address = {Cambridge, Mass.},\\n  series = {Castells, {Manuel}, 1942- {Information} age . v},\\n  title = {The rise of the network society},\\n  isbn = {978-1-55786-616-5},\\n  language = {eng},\\n  publisher = {Blackwell Publishers},\\n  author = {Castells, Manuel},\\n  year = {1996},\\n  keywords = {Information networks., Information society., Information technology Economic aspects., Information technology Social aspects., Technology and civilization.}\\n}\\n', 'ris': '', 'inline': '', 'note': 'George likes this new format.', 'bibkey': 'Castells Rise 1996'}\n"
     ]
    }
   ],
   "source": [
    "drop_zdb = \"DROP TABLE IF EXISTS zettels\"\n",
    "\n",
    "\n",
    "fts_field_names = ['filename', 'title', 'tags', 'mentions', 'outline', 'cite', 'dates', \n",
    "                   'summary', 'text', 'bibtex', 'ris', 'inline', 'note' ]\n",
    "\n",
    "fts_field_refs = ['?'] * len(fts_field_names)  # for sqlite insert template generation\n",
    "\n",
    "fts_field_init = [''] * len(fts_field_names)\n",
    "\n",
    "fts_fields = dict(zip(fts_field_names, fts_field_refs))\n",
    "\n",
    "fts_default_record = dict(zip(fts_field_names, fts_field_init))\n",
    "\n",
    "record = fts_default_record.copy()\n",
    "record.update(doc)\n",
    "\n",
    "sql_fields = \",\".join(fts_fields.keys())\n",
    "sql_params = \",\".join(fts_fields.values())\n",
    "\n",
    "create_zdb = \"CREATE VIRTUAL TABLE zettels USING fts4(%s);\" % sql_fields \n",
    "insert_zdb = \"INSERT INTO zettels VALUES (%s)\" % sql_params\n",
    "zdb_record = ', '.join([\"%%(%s)s\" % n for n in fts_fields.keys() ])\n",
    "\n",
    "print(create_zdb)\n",
    "print(insert_zdb)\n",
    "print(zdb_record)\n",
    "print(record)"
   ]
  },
  {
   "cell_type": "code",
   "execution_count": 11,
   "metadata": {},
   "outputs": [
    {
     "data": {
      "text/plain": [
       "<sqlite3.Cursor at 0x1104555e0>"
      ]
     },
     "execution_count": 11,
     "metadata": {},
     "output_type": "execute_result"
    }
   ],
   "source": [
    "conn.execute(drop_zdb)\n",
    "conn.execute(create_zdb)"
   ]
  },
  {
   "cell_type": "markdown",
   "metadata": {
    "collapsed": true
   },
   "source": [
    "Next we will actually add the Zettel to the database and do a test query. Almost there."
   ]
  },
  {
   "cell_type": "code",
   "execution_count": null,
   "metadata": {
    "collapsed": true
   },
   "outputs": [],
   "source": []
  }
 ],
 "metadata": {
  "kernelspec": {
   "display_name": "Python 3",
   "language": "python",
   "name": "python3"
  },
  "language_info": {
   "codemirror_mode": {
    "name": "ipython",
    "version": 3
   },
   "file_extension": ".py",
   "mimetype": "text/x-python",
   "name": "python",
   "nbconvert_exporter": "python",
   "pygments_lexer": "ipython3",
   "version": "3.6.1"
  }
 },
 "nbformat": 4,
 "nbformat_minor": 2
}
