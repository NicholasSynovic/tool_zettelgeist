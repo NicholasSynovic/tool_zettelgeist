{
 "cells": [
  {
   "cell_type": "code",
   "execution_count": 1,
   "metadata": {},
   "outputs": [],
   "source": [
    "import yaml"
   ]
  },
  {
   "cell_type": "code",
   "execution_count": 2,
   "metadata": {},
   "outputs": [
    {
     "data": {
      "text/plain": [
       "'\\ntitle: First BIB Note for Castells\\ntags:\\n  - Castells\\n  - Network-Society\\nmentions:\\n  - gkt\\n  - dbdennis\\ndates: 2016\\ntext: |\\n  Lorem ipsum dolor sit amet, consectetur adipiscing elit. Etiam eleifend est sed diam maximus rutrum. Quisque sit amet imperdiet odio, id tristique libero. Aliquam viverra convallis mauris vel tristique. Cras ac dolor non risus porttitor molestie vel at nisi. Donec vitae finibus quam. Phasellus vehicula urna sed nibh condimentum, ultrices interdum velit eleifend. Nam suscipit dolor eu rutrum fringilla. Sed pulvinar purus purus, sit amet venenatis enim convallis a. Duis fringilla nisl sit amet erat lobortis dictum. Nunc fringilla arcu nec ex blandit, a gravida purus commodo. Vivamus lacinia tellus dui, vel maximus lacus ornare id.\\n\\n  Vivamus euismod justo sit amet luctus bibendum. Integer non mi ullamcorper enim fringilla vulputate sit amet in urna. Nullam eu sodales ipsum. Curabitur id convallis ex. Duis a condimentum lorem. Nulla et urna massa. Duis in nibh eu elit lobortis vehicula. Mauris congue mauris mollis metus lacinia, ut suscipit mi egestas. Donec luctus ante ante, eget viverra est mollis vitae.\\n\\n  Vivamus in purus in erat dictum scelerisque. Aliquam dictum quis ligula ac euismod. Mauris elementum metus vel scelerisque feugiat. Vivamus bibendum massa eu pellentesque sodales. Nulla nec lacus dolor. Donec scelerisque, nibh sed placerat gravida, nunc turpis tristique nibh, ac feugiat enim massa ut eros. Nulla finibus, augue egestas hendrerit accumsan, tellus augue tempor eros, in sagittis dolor turpis nec mi. Nunc fringilla mi non malesuada aliquet.\\n\\nbibtex: |\\n  @book{castells_rise_1996,\\n    address = {Cambridge, Mass.},\\n    series = {Castells, {Manuel}, 1942- {Information} age . v},\\n    title = {The rise of the network society},\\n    isbn = {978-1-55786-616-5},\\n    language = {eng},\\n    publisher = {Blackwell Publishers},\\n    author = {Castells, Manuel},\\n    year = {1996},\\n    keywords = {Information networks., Information society., Information technology Economic aspects., Information technology Social aspects., Technology and civilization.}\\n  }\\n\\nnote:\\n  George likes this new format.'"
      ]
     },
     "execution_count": 2,
     "metadata": {},
     "output_type": "execute_result"
    }
   ],
   "source": [
    "\"\"\"\n",
    "title: First BIB Note for Castells\n",
    "tags:\n",
    "  - Castells\n",
    "  - Network-Society\n",
    "mentions:\n",
    "  - gkt\n",
    "  - dbdennis\n",
    "dates: 2016\n",
    "text: |\n",
    "  Lorem ipsum dolor sit amet, consectetur adipiscing elit. Etiam eleifend est sed diam maximus rutrum. Quisque sit amet imperdiet odio, id tristique libero. Aliquam viverra convallis mauris vel tristique. Cras ac dolor non risus porttitor molestie vel at nisi. Donec vitae finibus quam. Phasellus vehicula urna sed nibh condimentum, ultrices interdum velit eleifend. Nam suscipit dolor eu rutrum fringilla. Sed pulvinar purus purus, sit amet venenatis enim convallis a. Duis fringilla nisl sit amet erat lobortis dictum. Nunc fringilla arcu nec ex blandit, a gravida purus commodo. Vivamus lacinia tellus dui, vel maximus lacus ornare id.\n",
    "\n",
    "  Vivamus euismod justo sit amet luctus bibendum. Integer non mi ullamcorper enim fringilla vulputate sit amet in urna. Nullam eu sodales ipsum. Curabitur id convallis ex. Duis a condimentum lorem. Nulla et urna massa. Duis in nibh eu elit lobortis vehicula. Mauris congue mauris mollis metus lacinia, ut suscipit mi egestas. Donec luctus ante ante, eget viverra est mollis vitae.\n",
    "\n",
    "  Vivamus in purus in erat dictum scelerisque. Aliquam dictum quis ligula ac euismod. Mauris elementum metus vel scelerisque feugiat. Vivamus bibendum massa eu pellentesque sodales. Nulla nec lacus dolor. Donec scelerisque, nibh sed placerat gravida, nunc turpis tristique nibh, ac feugiat enim massa ut eros. Nulla finibus, augue egestas hendrerit accumsan, tellus augue tempor eros, in sagittis dolor turpis nec mi. Nunc fringilla mi non malesuada aliquet.\n",
    "\n",
    "bibtex: |\n",
    "  @book{castells_rise_1996,\n",
    "    address = {Cambridge, Mass.},\n",
    "    series = {Castells, {Manuel}, 1942- {Information} age . v},\n",
    "    title = {The rise of the network society},\n",
    "    isbn = {978-1-55786-616-5},\n",
    "    language = {eng},\n",
    "    publisher = {Blackwell Publishers},\n",
    "    author = {Castells, Manuel},\n",
    "    year = {1996},\n",
    "    keywords = {Information networks., Information society., Information technology Economic aspects., Information technology Social aspects., Technology and civilization.}\n",
    "  }\n",
    "\n",
    "note:\n",
    "  George likes this new format.\"\"\""
   ]
  },
  {
   "cell_type": "code",
   "execution_count": 3,
   "metadata": {},
   "outputs": [
    {
     "name": "stdout",
     "output_type": "stream",
     "text": [
      "\n",
      "title: First BIB Note for Castells\n",
      "tags:\n",
      "  - Castells\n",
      "  - Network-Society\n",
      "mentions:\n",
      "  - gkt\n",
      "  - dbdennis\n",
      "dates: 2016\n",
      "text: |\n",
      "  Lorem ipsum dolor sit amet, consectetur adipiscing elit. Etiam eleifend est sed diam maximus rutrum. Quisque sit amet imperdiet odio, id tristique libero. Aliquam viverra convallis mauris vel tristique. Cras ac dolor non risus porttitor molestie vel at nisi. Donec vitae finibus quam. Phasellus vehicula urna sed nibh condimentum, ultrices interdum velit eleifend. Nam suscipit dolor eu rutrum fringilla. Sed pulvinar purus purus, sit amet venenatis enim convallis a. Duis fringilla nisl sit amet erat lobortis dictum. Nunc fringilla arcu nec ex blandit, a gravida purus commodo. Vivamus lacinia tellus dui, vel maximus lacus ornare id.\n",
      "\n",
      "  Vivamus euismod justo sit amet luctus bibendum. Integer non mi ullamcorper enim fringilla vulputate sit amet in urna. Nullam eu sodales ipsum. Curabitur id convallis ex. Duis a condimentum lorem. Nulla et urna massa. Duis in nibh eu elit lobortis vehicula. Mauris congue mauris mollis metus lacinia, ut suscipit mi egestas. Donec luctus ante ante, eget viverra est mollis vitae.\n",
      "\n",
      "  Vivamus in purus in erat dictum scelerisque. Aliquam dictum quis ligula ac euismod. Mauris elementum metus vel scelerisque feugiat. Vivamus bibendum massa eu pellentesque sodales. Nulla nec lacus dolor. Donec scelerisque, nibh sed placerat gravida, nunc turpis tristique nibh, ac feugiat enim massa ut eros. Nulla finibus, augue egestas hendrerit accumsan, tellus augue tempor eros, in sagittis dolor turpis nec mi. Nunc fringilla mi non malesuada aliquet.\n",
      "\n",
      "bibtex: |\n",
      "  @book{castells_rise_1996,\n",
      "    address = {Cambridge, Mass.},\n",
      "    series = {Castells, {Manuel}, 1942- {Information} age . v},\n",
      "    title = {The rise of the network society},\n",
      "    isbn = {978-1-55786-616-5},\n",
      "    language = {eng},\n",
      "    publisher = {Blackwell Publishers},\n",
      "    author = {Castells, Manuel},\n",
      "    year = {1996},\n",
      "    keywords = {Information networks., Information society., Information technology Economic aspects., Information technology Social aspects., Technology and civilization.}\n",
      "  }\n",
      "\n",
      "note:\n",
      "  George likes this new format.\n"
     ]
    }
   ],
   "source": [
    "print(Out[2])"
   ]
  },
  {
   "cell_type": "code",
   "execution_count": 4,
   "metadata": {},
   "outputs": [
    {
     "data": {
      "text/plain": [
       "{'bibtex': '@book{castells_rise_1996,\\n  address = {Cambridge, Mass.},\\n  series = {Castells, {Manuel}, 1942- {Information} age . v},\\n  title = {The rise of the network society},\\n  isbn = {978-1-55786-616-5},\\n  language = {eng},\\n  publisher = {Blackwell Publishers},\\n  author = {Castells, Manuel},\\n  year = {1996},\\n  keywords = {Information networks., Information society., Information technology Economic aspects., Information technology Social aspects., Technology and civilization.}\\n}\\n',\n",
       " 'dates': 2016,\n",
       " 'mentions': ['gkt', 'dbdennis'],\n",
       " 'note': 'George likes this new format.',\n",
       " 'tags': ['Castells', 'Network-Society'],\n",
       " 'text': 'Lorem ipsum dolor sit amet, consectetur adipiscing elit. Etiam eleifend est sed diam maximus rutrum. Quisque sit amet imperdiet odio, id tristique libero. Aliquam viverra convallis mauris vel tristique. Cras ac dolor non risus porttitor molestie vel at nisi. Donec vitae finibus quam. Phasellus vehicula urna sed nibh condimentum, ultrices interdum velit eleifend. Nam suscipit dolor eu rutrum fringilla. Sed pulvinar purus purus, sit amet venenatis enim convallis a. Duis fringilla nisl sit amet erat lobortis dictum. Nunc fringilla arcu nec ex blandit, a gravida purus commodo. Vivamus lacinia tellus dui, vel maximus lacus ornare id.\\n\\nVivamus euismod justo sit amet luctus bibendum. Integer non mi ullamcorper enim fringilla vulputate sit amet in urna. Nullam eu sodales ipsum. Curabitur id convallis ex. Duis a condimentum lorem. Nulla et urna massa. Duis in nibh eu elit lobortis vehicula. Mauris congue mauris mollis metus lacinia, ut suscipit mi egestas. Donec luctus ante ante, eget viverra est mollis vitae.\\n\\nVivamus in purus in erat dictum scelerisque. Aliquam dictum quis ligula ac euismod. Mauris elementum metus vel scelerisque feugiat. Vivamus bibendum massa eu pellentesque sodales. Nulla nec lacus dolor. Donec scelerisque, nibh sed placerat gravida, nunc turpis tristique nibh, ac feugiat enim massa ut eros. Nulla finibus, augue egestas hendrerit accumsan, tellus augue tempor eros, in sagittis dolor turpis nec mi. Nunc fringilla mi non malesuada aliquet.\\n',\n",
       " 'title': 'First BIB Note for Castells'}"
      ]
     },
     "execution_count": 4,
     "metadata": {},
     "output_type": "execute_result"
    }
   ],
   "source": [
    "yaml.load(Out[2])"
   ]
  },
  {
   "cell_type": "code",
   "execution_count": 5,
   "metadata": {},
   "outputs": [
    {
     "name": "stdout",
     "output_type": "stream",
     "text": [
      "title = First BIB Note for Castells\n",
      "tags = ['Castells', 'Network-Society']\n",
      "mentions = ['gkt', 'dbdennis']\n",
      "dates = 2016\n",
      "text = Lorem ipsum dolor sit amet, consectetur adipiscing elit. Etiam eleifend est sed diam maximus rutrum. Quisque sit amet imperdiet odio, id tristique libero. Aliquam viverra convallis mauris vel tristique. Cras ac dolor non risus porttitor molestie vel at nisi. Donec vitae finibus quam. Phasellus vehicula urna sed nibh condimentum, ultrices interdum velit eleifend. Nam suscipit dolor eu rutrum fringilla. Sed pulvinar purus purus, sit amet venenatis enim convallis a. Duis fringilla nisl sit amet erat lobortis dictum. Nunc fringilla arcu nec ex blandit, a gravida purus commodo. Vivamus lacinia tellus dui, vel maximus lacus ornare id.\n",
      "\n",
      "Vivamus euismod justo sit amet luctus bibendum. Integer non mi ullamcorper enim fringilla vulputate sit amet in urna. Nullam eu sodales ipsum. Curabitur id convallis ex. Duis a condimentum lorem. Nulla et urna massa. Duis in nibh eu elit lobortis vehicula. Mauris congue mauris mollis metus lacinia, ut suscipit mi egestas. Donec luctus ante ante, eget viverra est mollis vitae.\n",
      "\n",
      "Vivamus in purus in erat dictum scelerisque. Aliquam dictum quis ligula ac euismod. Mauris elementum metus vel scelerisque feugiat. Vivamus bibendum massa eu pellentesque sodales. Nulla nec lacus dolor. Donec scelerisque, nibh sed placerat gravida, nunc turpis tristique nibh, ac feugiat enim massa ut eros. Nulla finibus, augue egestas hendrerit accumsan, tellus augue tempor eros, in sagittis dolor turpis nec mi. Nunc fringilla mi non malesuada aliquet.\n",
      "\n",
      "bibtex = @book{castells_rise_1996,\n",
      "  address = {Cambridge, Mass.},\n",
      "  series = {Castells, {Manuel}, 1942- {Information} age . v},\n",
      "  title = {The rise of the network society},\n",
      "  isbn = {978-1-55786-616-5},\n",
      "  language = {eng},\n",
      "  publisher = {Blackwell Publishers},\n",
      "  author = {Castells, Manuel},\n",
      "  year = {1996},\n",
      "  keywords = {Information networks., Information society., Information technology Economic aspects., Information technology Social aspects., Technology and civilization.}\n",
      "}\n",
      "\n",
      "note = George likes this new format.\n"
     ]
    }
   ],
   "source": [
    "doc = Out[4]\n",
    "\n",
    "for key in doc.keys():\n",
    "    print(key, \"=\", doc[key])"
   ]
  },
  {
   "cell_type": "code",
   "execution_count": 6,
   "metadata": {},
   "outputs": [
    {
     "name": "stdout",
     "output_type": "stream",
     "text": [
      "@book{castells_rise_1996,\n",
      "  address = {Cambridge, Mass.},\n",
      "  series = {Castells, {Manuel}, 1942- {Information} age . v},\n",
      "  title = {The rise of the network society},\n",
      "  isbn = {978-1-55786-616-5},\n",
      "  language = {eng},\n",
      "  publisher = {Blackwell Publishers},\n",
      "  author = {Castells, Manuel},\n",
      "  year = {1996},\n",
      "  keywords = {Information networks., Information society., Information technology Economic aspects., Information technology Social aspects., Technology and civilization.}\n",
      "}\n",
      "\n"
     ]
    }
   ],
   "source": [
    "print(doc['bibtex'])"
   ]
  },
  {
   "cell_type": "code",
   "execution_count": 7,
   "metadata": {
    "collapsed": true
   },
   "outputs": [],
   "source": [
    "import sqlite3"
   ]
  },
  {
   "cell_type": "code",
   "execution_count": 8,
   "metadata": {
    "collapsed": true
   },
   "outputs": [],
   "source": [
    "conn = sqlite3.connect(\"zettels.db\")"
   ]
  },
  {
   "cell_type": "code",
   "execution_count": 9,
   "metadata": {
    "collapsed": true
   },
   "outputs": [],
   "source": [
    "cursor = conn.cursor()"
   ]
  },
  {
   "cell_type": "code",
   "execution_count": 18,
   "metadata": {},
   "outputs": [
    {
     "name": "stdout",
     "output_type": "stream",
     "text": [
      "CREATE VIRTUAL TABLE zettels USING fts4(filename,title,tags,mentions,dates,summary,text,bibtex,ris,inline,note);\n",
      "INSERT INTO results VALUES (?,?,?,?,?,?,?,?,?,?,?)\n",
      "%(filename)s, %(title)s, %(tags)s, %(mentions)s, %(dates)s, %(summary)s, %(text)s, %(bibtex)s, %(ris)s, %(inline)s, %(note)s\n",
      "dict_keys(['filename', 'title', 'tags', 'mentions', 'dates', 'summary', 'text', 'bibtex', 'ris', 'inline', 'note'])\n"
     ]
    }
   ],
   "source": [
    "drop_zdb = \"DROP TABLE IF EXISTS zettels\"\n",
    "\n",
    "fts_fields = {'filename' : '?',\n",
    "              'title' : '?',\n",
    "              'tags' : '?',\n",
    "              'mentions' : '?',\n",
    "              'dates' : '?',\n",
    "              'summary' : '?',\n",
    "              'text' : '?',\n",
    "              'bibtex' : '?',\n",
    "              'ris' : '?',\n",
    "              'inline' : '?',\n",
    "              'note' : '?',\n",
    "              'another' : '?'}\n",
    "\n",
    "record = fts_fields.copy()\n",
    "record.update(doc)\n",
    "\n",
    "sql_fields = \",\".join(fts_fields.keys())\n",
    "sql_params = \",\".join(fts_fields.values())\n",
    "\n",
    "create_zdb = \"CREATE VIRTUAL TABLE zettels USING fts4(%s);\" % sql_fields \n",
    "insert_zdb = \"INSERT INTO results VALUES (%s)\" % sql_params\n",
    "zdb_record = ', '.join([\"%%(%s)s\" % n for n in fts_fields.keys() ])\n",
    "\n",
    "print(create_zdb)\n",
    "print(insert_zdb)\n",
    "print(zdb_record)\n",
    "\n",
    "print(record.keys())"
   ]
  },
  {
   "cell_type": "code",
   "execution_count": 19,
   "metadata": {},
   "outputs": [
    {
     "data": {
      "text/plain": [
       "<sqlite3.Cursor at 0x10e312180>"
      ]
     },
     "execution_count": 19,
     "metadata": {},
     "output_type": "execute_result"
    }
   ],
   "source": [
    "conn.execute(drop_zdb)\n",
    "conn.execute(create_zdb)"
   ]
  },
  {
   "cell_type": "code",
   "execution_count": null,
   "metadata": {
    "collapsed": true
   },
   "outputs": [],
   "source": []
  }
 ],
 "metadata": {
  "kernelspec": {
   "display_name": "Python 3",
   "language": "python",
   "name": "python3"
  },
  "language_info": {
   "codemirror_mode": {
    "name": "ipython",
    "version": 3
   },
   "file_extension": ".py",
   "mimetype": "text/x-python",
   "name": "python",
   "nbconvert_exporter": "python",
   "pygments_lexer": "ipython3",
   "version": "3.6.1"
  }
 },
 "nbformat": 4,
 "nbformat_minor": 2
}
